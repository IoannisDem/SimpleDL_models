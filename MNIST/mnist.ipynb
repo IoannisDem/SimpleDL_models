{
  "nbformat": 4,
  "nbformat_minor": 0,
  "metadata": {
    "colab": {
      "name": "mnist.ipynb",
      "provenance": [],
      "collapsed_sections": [],
      "include_colab_link": true
    },
    "kernelspec": {
      "name": "python3",
      "display_name": "Python 3"
    },
    "language_info": {
      "name": "python"
    }
  },
  "cells": [
    {
      "cell_type": "markdown",
      "metadata": {
        "id": "view-in-github",
        "colab_type": "text"
      },
      "source": [
        "<a href=\"https://colab.research.google.com/github/IoannisDem/SimpleDL_models/blob/main/mnist.ipynb\" target=\"_parent\"><img src=\"https://colab.research.google.com/assets/colab-badge.svg\" alt=\"Open In Colab\"/></a>"
      ]
    },
    {
      "cell_type": "code",
      "source": [
        "from google.colab import drive\n",
        "drive.mount('/content/gdrive')"
      ],
      "metadata": {
        "colab": {
          "base_uri": "https://localhost:8080/"
        },
        "id": "vUZxlF-gU98H",
        "outputId": "d8a4068e-268d-4b02-82bc-46f68c524627"
      },
      "execution_count": null,
      "outputs": [
        {
          "output_type": "stream",
          "name": "stdout",
          "text": [
            "Drive already mounted at /content/gdrive; to attempt to forcibly remount, call drive.mount(\"/content/gdrive\", force_remount=True).\n"
          ]
        }
      ]
    },
    {
      "cell_type": "code",
      "source": [
        "ls"
      ],
      "metadata": {
        "colab": {
          "base_uri": "https://localhost:8080/"
        },
        "id": "xkgf4V1LWsnG",
        "outputId": "7729edbb-9e2a-4c4e-db54-3ec4a5a19d30"
      },
      "execution_count": null,
      "outputs": [
        {
          "output_type": "stream",
          "name": "stdout",
          "text": [
            "\u001b[0m\u001b[01;34mgdrive\u001b[0m/  \u001b[01;34msample_data\u001b[0m/\n"
          ]
        }
      ]
    },
    {
      "cell_type": "code",
      "execution_count": null,
      "metadata": {
        "id": "gNQFjPJzA3XJ"
      },
      "outputs": [],
      "source": [
        "import numpy as np\n",
        "import tensorflow as tf\n",
        "import seaborn as sns\n",
        "\n",
        "%matplotlib inline\n",
        "import matplotlib.pyplot as plt"
      ]
    },
    {
      "cell_type": "code",
      "source": [
        "#import mnist dataset\n",
        "(x_train, y_train), (x_test, y_test) = tf.keras.datasets.mnist.load_data()"
      ],
      "metadata": {
        "id": "9CGr7yBABTpr",
        "colab": {
          "base_uri": "https://localhost:8080/"
        },
        "outputId": "62f8f8a3-3028-4ee6-83ec-71f152498470"
      },
      "execution_count": null,
      "outputs": [
        {
          "output_type": "stream",
          "name": "stdout",
          "text": [
            "Downloading data from https://storage.googleapis.com/tensorflow/tf-keras-datasets/mnist.npz\n",
            "11493376/11490434 [==============================] - 0s 0us/step\n",
            "11501568/11490434 [==============================] - 0s 0us/step\n"
          ]
        }
      ]
    },
    {
      "cell_type": "code",
      "source": [
        "#training dataset dimension\n",
        "print(x_train.shape)"
      ],
      "metadata": {
        "colab": {
          "base_uri": "https://localhost:8080/"
        },
        "id": "xggTLS1VBhCP",
        "outputId": "a79670ef-ba88-4110-92b4-1c99ad69537f"
      },
      "execution_count": null,
      "outputs": [
        {
          "output_type": "stream",
          "name": "stdout",
          "text": [
            "(60000, 28, 28)\n"
          ]
        }
      ]
    },
    {
      "cell_type": "code",
      "source": [
        "#plot an image\n",
        "plt.imshow(x_train[1],cmap='gray')\n",
        "print(np.amax(x_train[1]))"
      ],
      "metadata": {
        "colab": {
          "base_uri": "https://localhost:8080/",
          "height": 283
        },
        "id": "gg4tK_-tBley",
        "outputId": "3eb6eaac-af22-4850-de39-a4795c15df36"
      },
      "execution_count": null,
      "outputs": [
        {
          "output_type": "stream",
          "name": "stdout",
          "text": [
            "255\n"
          ]
        },
        {
          "output_type": "display_data",
          "data": {
            "text/plain": [
              "<Figure size 432x288 with 1 Axes>"
            ],
            "image/png": "[encoded data removed]"
          },
          "metadata": {
            "needs_background": "light"
          }
        }
      ]
    },
    {
      "cell_type": "code",
      "source": [
        "#normalise data\n",
        "x_train = tf.keras.utils.normalize(x_train, axis = 1)\n",
        "x_test = tf.keras.utils.normalize(x_test, axis = 1)"
      ],
      "metadata": {
        "id": "3zfDwtK_L201"
      },
      "execution_count": null,
      "outputs": []
    },
    {
      "cell_type": "code",
      "source": [
        "plt.imshow(x_train[1],cmap='gray')\n",
        "print(np.amax(x_train[1]))"
      ],
      "metadata": {
        "colab": {
          "base_uri": "https://localhost:8080/",
          "height": 283
        },
        "id": "WnuI-8r9DdjT",
        "outputId": "0cc2823c-0952-4a04-ff3c-546d1415c9fd"
      },
      "execution_count": null,
      "outputs": [
        {
          "output_type": "stream",
          "name": "stdout",
          "text": [
            "0.48350000784115293\n"
          ]
        },
        {
          "output_type": "display_data",
          "data": {
            "text/plain": [
              "<Figure size 432x288 with 1 Axes>"
            ],
            "image/png": "[encoded data removed]"
          },
          "metadata": {
            "needs_background": "light"
          }
        }
      ]
    },
    {
      "cell_type": "code",
      "source": [
        "#initialising the model\n",
        "model = tf.keras.models.Sequential()"
      ],
      "metadata": {
        "id": "7gz74B2YLXPh"
      },
      "execution_count": null,
      "outputs": []
    },
    {
      "cell_type": "code",
      "source": [
        "#designing the Architecture\n",
        "model.add(tf.keras.layers.Flatten())\n",
        "model.add(tf.keras.layers.Dense(128, activation = tf.nn.relu))\n",
        "model.add(tf.keras.layers.Dense(128, activation = tf.nn.relu))\n",
        "model.add(tf.keras.layers.Dense(10, activation = tf.nn.softmax))"
      ],
      "metadata": {
        "id": "AGSkqbhQPNjn"
      },
      "execution_count": null,
      "outputs": []
    },
    {
      "cell_type": "code",
      "source": [
        "#compile\n",
        "#set optimiser, loss and metrics\n",
        "model.compile(optimizer = 'adam', loss = 'sparse_categorical_crossentropy', metrics = ['accuracy'])"
      ],
      "metadata": {
        "id": "o7bruv89Q5bI"
      },
      "execution_count": null,
      "outputs": []
    },
    {
      "cell_type": "code",
      "source": [
        "#train the model\n",
        "model.fit(x_train, y_train, batch_size = 50, epochs = 10, verbose = 2, shuffle = True, steps_per_epoch = None)"
      ],
      "metadata": {
        "colab": {
          "base_uri": "https://localhost:8080/"
        },
        "id": "wa1GWm1lS2P0",
        "outputId": "0717e31a-8681-4fa7-b303-6c2aa351ff87"
      },
      "execution_count": null,
      "outputs": [
        {
          "output_type": "stream",
          "name": "stdout",
          "text": [
            "Epoch 1/10\n",
            "1200/1200 - 3s - loss: 0.2896 - accuracy: 0.9150 - 3s/epoch - 3ms/step\n",
            "Epoch 2/10\n",
            "1200/1200 - 3s - loss: 0.1136 - accuracy: 0.9649 - 3s/epoch - 2ms/step\n",
            "Epoch 3/10\n",
            "1200/1200 - 2s - loss: 0.0786 - accuracy: 0.9747 - 2s/epoch - 2ms/step\n",
            "Epoch 4/10\n",
            "1200/1200 - 2s - loss: 0.0578 - accuracy: 0.9819 - 2s/epoch - 2ms/step\n",
            "Epoch 5/10\n",
            "1200/1200 - 2s - loss: 0.0443 - accuracy: 0.9861 - 2s/epoch - 2ms/step\n",
            "Epoch 6/10\n",
            "1200/1200 - 2s - loss: 0.0345 - accuracy: 0.9882 - 2s/epoch - 2ms/step\n",
            "Epoch 7/10\n",
            "1200/1200 - 2s - loss: 0.0271 - accuracy: 0.9911 - 2s/epoch - 2ms/step\n",
            "Epoch 8/10\n",
            "1200/1200 - 3s - loss: 0.0219 - accuracy: 0.9927 - 3s/epoch - 2ms/step\n",
            "Epoch 9/10\n",
            "1200/1200 - 3s - loss: 0.0198 - accuracy: 0.9932 - 3s/epoch - 2ms/step\n",
            "Epoch 10/10\n",
            "1200/1200 - 2s - loss: 0.0157 - accuracy: 0.9948 - 2s/epoch - 2ms/step\n"
          ]
        },
        {
          "output_type": "execute_result",
          "data": {
            "text/plain": [
              "<keras.callbacks.History at 0x7fb775aadd50>"
            ]
          },
          "metadata": {},
          "execution_count": 15
        }
      ]
    },
    {
      "cell_type": "code",
      "source": [
        "#evaluate model\n",
        "val_loss, val_acc = model.evaluate(x_test, y_test)"
      ],
      "metadata": {
        "colab": {
          "base_uri": "https://localhost:8080/"
        },
        "id": "j42fZ6x9YpiQ",
        "outputId": "1fefeff1-e912-450e-b8e0-ca0951d2a1be"
      },
      "execution_count": null,
      "outputs": [
        {
          "output_type": "stream",
          "name": "stdout",
          "text": [
            "313/313 [==============================] - 1s 1ms/step - loss: 0.1088 - accuracy: 0.9732\n"
          ]
        }
      ]
    },
    {
      "cell_type": "code",
      "source": [
        "model_save_name = 'epic_num_reader.pt'\n",
        "path = F\"/content/gdrive/My Drive/Colab Notebooks/models/epic_num_reader\""
      ],
      "metadata": {
        "id": "Z2x788ZyXMfj"
      },
      "execution_count": null,
      "outputs": []
    },
    {
      "cell_type": "code",
      "source": [
        "model.save(path)"
      ],
      "metadata": {
        "id": "9D48AyC9Ts2a",
        "colab": {
          "base_uri": "https://localhost:8080/"
        },
        "outputId": "2c88efde-7e24-429d-8341-ddf67ff22a08"
      },
      "execution_count": null,
      "outputs": [
        {
          "output_type": "stream",
          "name": "stdout",
          "text": [
            "INFO:tensorflow:Assets written to: /content/gdrive/My Drive/Colab Notebooks/models/epic_num_reader/assets\n"
          ]
        }
      ]
    },
    {
      "cell_type": "code",
      "source": [
        "#load the model from google drive\n",
        "model_save_name = 'epic_num_reader.pt'\n",
        "#path in my google drive, otherwise use path = F\"/content/gdrive/My Drive/{file_name}\"\n",
        "path = F\"/content/gdrive/My Drive/Colab Notebooks/models/epic_num_reader\"\n",
        "new_model = tf.keras.models.load_model(path)"
      ],
      "metadata": {
        "id": "51nkogzGXgJG"
      },
      "execution_count": null,
      "outputs": []
    },
    {
      "cell_type": "code",
      "source": [
        "#make predictions\n",
        "predictions = new_model.predict([x_test])\n",
        "print(np.argmax(predictions[0]))"
      ],
      "metadata": {
        "colab": {
          "base_uri": "https://localhost:8080/"
        },
        "id": "HTkrjICpYkGM",
        "outputId": "dc00306e-f9b7-4338-f144-09d829bc5ff4"
      },
      "execution_count": null,
      "outputs": [
        {
          "output_type": "stream",
          "name": "stdout",
          "text": [
            "7\n"
          ]
        }
      ]
    },
    {
      "cell_type": "code",
      "source": [
        "plt.imshow(x_test[0],cmap='gray')"
      ],
      "metadata": {
        "colab": {
          "base_uri": "https://localhost:8080/",
          "height": 283
        },
        "id": "J-yKfosjY7K4",
        "outputId": "5c890ce8-4fec-4a11-8165-7a79decbbd5c"
      },
      "execution_count": null,
      "outputs": [
        {
          "output_type": "execute_result",
          "data": {
            "text/plain": [
              "<matplotlib.image.AxesImage at 0x7fb76dbc64d0>"
            ]
          },
          "metadata": {},
          "execution_count": 24
        },
        {
          "output_type": "display_data",
          "data": {
            "text/plain": [
              "<Figure size 432x288 with 1 Axes>"
            ],
            "image/png": "[encoded data removed]"
          },
          "metadata": {
            "needs_background": "light"
          }
        }
      ]
    }
  ]
}
